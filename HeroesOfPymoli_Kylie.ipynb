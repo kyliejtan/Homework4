{
 "cells": [
  {
   "cell_type": "markdown",
   "metadata": {},
   "source": [
    "### Heroes Of Pymoli Data Analysis\n",
    "* Of the 1163 active players, the vast majority are male (84%). There also exists, a smaller, but notable proportion of female players (14%).\n",
    "\n",
    "* Our peak age demographic falls between 20-24 (44.8%) with secondary groups falling between 15-19 (18.60%) and 25-29 (13.4%).  \n",
    "-----"
   ]
  },
  {
   "cell_type": "markdown",
   "metadata": {},
   "source": [
    "###  Please note:\n"
   ]
  },
  {
   "cell_type": "markdown",
   "metadata": {},
   "source": [
    "Due to GitHub appearing to not correctly render DataFrames that I formatted with .map(\"${:.2f}\".format), I have \n",
    "displayed the un-formatted DataFrames in separate cells from the formatted DataFrames, and called print() on the formatted DataFrames so that the values associated with these DataFrames can be verified for correctness. \n",
    "\n",
    "The written description of the three observable trends based on the data are stored at the bottom of this notebook in a markdown cell."
   ]
  },
  {
   "cell_type": "code",
   "execution_count": 1,
   "metadata": {},
   "outputs": [],
   "source": [
    "# Dependencies and Setup\n",
    "import pandas as pd\n",
    "import numpy as np\n",
    "from functools import reduce\n",
    "\n",
    "# File to Load (Remember to Change These)\n",
    "file_to_load = \"Resources/purchase_data.csv\"\n",
    "\n",
    "# Read Purchasing File and store into Pandas data frame\n",
    "purchase_data = pd.read_csv(file_to_load)"
   ]
  },
  {
   "cell_type": "markdown",
   "metadata": {},
   "source": [
    "## Player Count"
   ]
  },
  {
   "cell_type": "markdown",
   "metadata": {},
   "source": [
    "* Display the total number of players\n"
   ]
  },
  {
   "cell_type": "code",
   "execution_count": 2,
   "metadata": {},
   "outputs": [
    {
     "data": {
      "text/html": [
       "<div>\n",
       "<style scoped>\n",
       "    .dataframe tbody tr th:only-of-type {\n",
       "        vertical-align: middle;\n",
       "    }\n",
       "\n",
       "    .dataframe tbody tr th {\n",
       "        vertical-align: top;\n",
       "    }\n",
       "\n",
       "    .dataframe thead th {\n",
       "        text-align: right;\n",
       "    }\n",
       "</style>\n",
       "<table border=\"1\" class=\"dataframe\">\n",
       "  <thead>\n",
       "    <tr style=\"text-align: right;\">\n",
       "      <th></th>\n",
       "      <th>Total Players</th>\n",
       "    </tr>\n",
       "  </thead>\n",
       "  <tbody>\n",
       "    <tr>\n",
       "      <th>0</th>\n",
       "      <td>576</td>\n",
       "    </tr>\n",
       "  </tbody>\n",
       "</table>\n",
       "</div>"
      ],
      "text/plain": [
       "   Total Players\n",
       "0            576"
      ]
     },
     "execution_count": 2,
     "metadata": {},
     "output_type": "execute_result"
    }
   ],
   "source": [
    "# Initializing a variable to hold the number of unique player screen names\n",
    "num_players = purchase_data['SN'].nunique()\n",
    "# Initalizing a DataFrame with the number of unique player screen names\n",
    "num_players_df = pd.DataFrame({num_players}, columns = ['Total Players'])\n",
    "# Displaying num_players_df\n",
    "num_players_df"
   ]
  },
  {
   "cell_type": "markdown",
   "metadata": {},
   "source": [
    "## Purchasing Analysis (Total)"
   ]
  },
  {
   "cell_type": "markdown",
   "metadata": {},
   "source": [
    "* Run basic calculations to obtain number of unique items, average price, etc.\n",
    "\n",
    "\n",
    "* Create a summary data frame to hold the results\n",
    "\n",
    "\n",
    "* Optional: give the displayed data cleaner formatting\n",
    "\n",
    "\n",
    "* Display the summary data frame\n"
   ]
  },
  {
   "cell_type": "code",
   "execution_count": 3,
   "metadata": {
    "scrolled": true
   },
   "outputs": [
    {
     "data": {
      "text/html": [
       "<div>\n",
       "<style scoped>\n",
       "    .dataframe tbody tr th:only-of-type {\n",
       "        vertical-align: middle;\n",
       "    }\n",
       "\n",
       "    .dataframe tbody tr th {\n",
       "        vertical-align: top;\n",
       "    }\n",
       "\n",
       "    .dataframe thead th {\n",
       "        text-align: right;\n",
       "    }\n",
       "</style>\n",
       "<table border=\"1\" class=\"dataframe\">\n",
       "  <thead>\n",
       "    <tr style=\"text-align: right;\">\n",
       "      <th></th>\n",
       "      <th>Number of Unique Items</th>\n",
       "      <th>Average Price</th>\n",
       "      <th>Number of Purchases</th>\n",
       "      <th>Total Revenue</th>\n",
       "    </tr>\n",
       "  </thead>\n",
       "  <tbody>\n",
       "    <tr>\n",
       "      <th>0</th>\n",
       "      <td>183</td>\n",
       "      <td>3.05</td>\n",
       "      <td>576</td>\n",
       "      <td>2379.77</td>\n",
       "    </tr>\n",
       "  </tbody>\n",
       "</table>\n",
       "</div>"
      ],
      "text/plain": [
       "   Number of Unique Items  Average Price  Number of Purchases  Total Revenue\n",
       "0                     183           3.05                  576        2379.77"
      ]
     },
     "execution_count": 3,
     "metadata": {},
     "output_type": "execute_result"
    }
   ],
   "source": [
    "# Initializing variables to hold the number of unique items, the average price of an item, and total revenue\n",
    "num_unique = purchase_data['Item ID'].nunique()\n",
    "avg_price = round(purchase_data['Price'].mean() ,2)\n",
    "total_revenue = purchase_data['Price'].sum()\n",
    "# Initalizing a DataFrame that will hold the quantities calculated above\n",
    "purchase_analysis_total_df = pd.DataFrame({'Number of Unique Items': num_unique,\n",
    "                                     'Average Price': avg_price,\n",
    "                                     'Number of Purchases': num_players,\n",
    "                                     'Total Revenue': total_revenue}, index = [0])\n",
    "# Displaying purchase_analysis_total_df\n",
    "purchase_analysis_total_df"
   ]
  },
  {
   "cell_type": "code",
   "execution_count": 4,
   "metadata": {},
   "outputs": [
    {
     "name": "stdout",
     "output_type": "stream",
     "text": [
      "   Number of Unique Items Average Price  Number of Purchases Total Revenue\n",
      "0                     183         $3.05                  576      $2379.77\n"
     ]
    }
   ],
   "source": [
    "# Formatting the DataFrame with \"$\" and 2 decimal places where appropriate\n",
    "purchase_analysis_total_df['Average Price'] = purchase_analysis_total_df['Average Price'].map(\"${:.2f}\".format)\n",
    "purchase_analysis_total_df['Total Revenue'] = purchase_analysis_total_df['Total Revenue'].map(\"${:.2f}\".format)\n",
    "# Displaying purchase_analysis_total_df\n",
    "print(purchase_analysis_total_df)"
   ]
  },
  {
   "cell_type": "markdown",
   "metadata": {},
   "source": [
    "## Gender Demographics"
   ]
  },
  {
   "cell_type": "markdown",
   "metadata": {},
   "source": [
    "* Percentage and Count of Male Players\n",
    "\n",
    "\n",
    "* Percentage and Count of Female Players\n",
    "\n",
    "\n",
    "* Percentage and Count of Other / Non-Disclosed\n",
    "\n",
    "\n"
   ]
  },
  {
   "cell_type": "code",
   "execution_count": 5,
   "metadata": {},
   "outputs": [
    {
     "data": {
      "text/html": [
       "<div>\n",
       "<style scoped>\n",
       "    .dataframe tbody tr th:only-of-type {\n",
       "        vertical-align: middle;\n",
       "    }\n",
       "\n",
       "    .dataframe tbody tr th {\n",
       "        vertical-align: top;\n",
       "    }\n",
       "\n",
       "    .dataframe thead th {\n",
       "        text-align: right;\n",
       "    }\n",
       "</style>\n",
       "<table border=\"1\" class=\"dataframe\">\n",
       "  <thead>\n",
       "    <tr style=\"text-align: right;\">\n",
       "      <th></th>\n",
       "      <th>Total Count</th>\n",
       "      <th>Percentage of Players</th>\n",
       "    </tr>\n",
       "  </thead>\n",
       "  <tbody>\n",
       "    <tr>\n",
       "      <th>Male</th>\n",
       "      <td>484</td>\n",
       "      <td>84.03</td>\n",
       "    </tr>\n",
       "    <tr>\n",
       "      <th>Female</th>\n",
       "      <td>81</td>\n",
       "      <td>14.06</td>\n",
       "    </tr>\n",
       "    <tr>\n",
       "      <th>Other / Not Disclosed</th>\n",
       "      <td>11</td>\n",
       "      <td>1.91</td>\n",
       "    </tr>\n",
       "  </tbody>\n",
       "</table>\n",
       "</div>"
      ],
      "text/plain": [
       "                       Total Count  Percentage of Players\n",
       "Male                           484                  84.03\n",
       "Female                          81                  14.06\n",
       "Other / Not Disclosed           11                   1.91"
      ]
     },
     "execution_count": 5,
     "metadata": {},
     "output_type": "execute_result"
    }
   ],
   "source": [
    "# Initializing a variable with male player data and a variable with the number of male players\n",
    "male = purchase_data.loc[purchase_data['Gender'] == 'Male', :]\n",
    "num_male = male['SN'].nunique()\n",
    "# Initializing a variable with female player data and a variable with the number of female players\n",
    "female = purchase_data.loc[purchase_data['Gender'] == 'Female', :]\n",
    "num_female = female['SN'].nunique()\n",
    "# Initializing a variable with the player data of players who identify as \"other\" gender or did not disclose\n",
    "# a gender, and a variable with the number of such players\n",
    "other_not_disclosed = purchase_data.loc[purchase_data['Gender'] == 'Other / Non-Disclosed', :]\n",
    "num_other_not_disclosed = other_not_disclosed['SN'].nunique()\n",
    "# Initializing variables with the percentages of players that identify with the three gender categories we are \n",
    "# considering in this analysis\n",
    "percent_male = round((num_male/num_players) * 100, 2)\n",
    "percent_female = round((num_female/num_players) * 100, 2)\n",
    "percent_other_not_disclosed = round((num_other_not_disclosed/num_players * 100), 2)\n",
    "# Initializing a DataFrame with the gender demographic information calculated above \n",
    "gender_dem_df = pd.DataFrame({'Total Count': [num_male, num_female, num_other_not_disclosed],\n",
    "                              'Percentage of Players': [percent_male, percent_female, percent_other_not_disclosed]},\n",
    "                            index = ['Male', 'Female', 'Other / Not Disclosed'])\n",
    "# Displaying gender_dem_df\n",
    "gender_dem_df"
   ]
  },
  {
   "cell_type": "markdown",
   "metadata": {},
   "source": [
    "\n",
    "## Purchasing Analysis (Gender)"
   ]
  },
  {
   "cell_type": "markdown",
   "metadata": {},
   "source": [
    "* Run basic calculations to obtain purchase count, avg. purchase price, avg. purchase total per person etc. by gender\n",
    "\n",
    "\n",
    "\n",
    "\n",
    "* Create a summary data frame to hold the results\n",
    "\n",
    "\n",
    "* Optional: give the displayed data cleaner formatting\n",
    "\n",
    "\n",
    "* Display the summary data frame"
   ]
  },
  {
   "cell_type": "code",
   "execution_count": 6,
   "metadata": {},
   "outputs": [
    {
     "data": {
      "text/html": [
       "<div>\n",
       "<style scoped>\n",
       "    .dataframe tbody tr th:only-of-type {\n",
       "        vertical-align: middle;\n",
       "    }\n",
       "\n",
       "    .dataframe tbody tr th {\n",
       "        vertical-align: top;\n",
       "    }\n",
       "\n",
       "    .dataframe thead th {\n",
       "        text-align: right;\n",
       "    }\n",
       "</style>\n",
       "<table border=\"1\" class=\"dataframe\">\n",
       "  <thead>\n",
       "    <tr style=\"text-align: right;\">\n",
       "      <th></th>\n",
       "      <th>Purchase Count</th>\n",
       "      <th>Average Purchase Price</th>\n",
       "      <th>Total Purchase Value</th>\n",
       "      <th>Avg Total Purchase per Person</th>\n",
       "    </tr>\n",
       "  </thead>\n",
       "  <tbody>\n",
       "    <tr>\n",
       "      <th>Male</th>\n",
       "      <td>652</td>\n",
       "      <td>3.02</td>\n",
       "      <td>1967.64</td>\n",
       "      <td>4.07</td>\n",
       "    </tr>\n",
       "    <tr>\n",
       "      <th>Female</th>\n",
       "      <td>113</td>\n",
       "      <td>3.20</td>\n",
       "      <td>361.94</td>\n",
       "      <td>4.47</td>\n",
       "    </tr>\n",
       "    <tr>\n",
       "      <th>Other / Not Disclosed</th>\n",
       "      <td>15</td>\n",
       "      <td>3.35</td>\n",
       "      <td>50.19</td>\n",
       "      <td>4.56</td>\n",
       "    </tr>\n",
       "  </tbody>\n",
       "</table>\n",
       "</div>"
      ],
      "text/plain": [
       "                       Purchase Count  Average Purchase Price  \\\n",
       "Male                              652                    3.02   \n",
       "Female                            113                    3.20   \n",
       "Other / Not Disclosed              15                    3.35   \n",
       "\n",
       "                       Total Purchase Value  Avg Total Purchase per Person  \n",
       "Male                                1967.64                           4.07  \n",
       "Female                               361.94                           4.47  \n",
       "Other / Not Disclosed                 50.19                           4.56  "
      ]
     },
     "execution_count": 6,
     "metadata": {},
     "output_type": "execute_result"
    }
   ],
   "source": [
    "# Initializing variables to hold information about the purchases of male players\n",
    "male_purch_count = male['Purchase ID'].count()\n",
    "male_avg_purch = round(male['Price'].mean(), 2)\n",
    "male_tot_purch = round(male['Price'].sum(), 2)\n",
    "male_avg_tot_purch_per = round(male.groupby(['SN'])['Price'].agg('sum').mean(), 2)\n",
    "# Initializing variables to hold information about the purchases of female players\n",
    "female_purch_count = female['Purchase ID'].count()\n",
    "female_avg_purch = round(female['Price'].mean(), 2)\n",
    "female_tot_purch = round(female['Price'].sum(), 2)\n",
    "female_avg_tot_purch_per = round(female.groupby(['SN'])['Price'].agg('sum').mean(), 2)\n",
    "# Initializing variables to hold information about the purchases of players who identify as \"other\" gender or did not\n",
    "# disclose their gender\n",
    "oth_n_disclosed_purch_count = other_not_disclosed['Purchase ID'].count()\n",
    "oth_n_disclosed_avg_purch = round(other_not_disclosed['Price'].mean(), 2)\n",
    "oth_n_disclosed_tot_purch = round(other_not_disclosed['Price'].sum(), 2)\n",
    "oth_n_disclosed_avg_tot_purch_per = round(other_not_disclosed.groupby(['SN'])['Price'].agg('sum').mean(), 2)\n",
    "# Initializing a new DataFrame\n",
    "purchase_analysis_gender_df = pd.DataFrame({'Purchase Count': [male_purch_count, female_purch_count, oth_n_disclosed_purch_count],\n",
    "                                     'Average Purchase Price': [male_avg_purch, female_avg_purch, oth_n_disclosed_avg_purch],\n",
    "                                    'Total Purchase Value': [male_tot_purch, female_tot_purch, oth_n_disclosed_tot_purch],\n",
    "                                           'Avg Total Purchase per Person': [male_avg_tot_purch_per, female_avg_tot_purch_per, oth_n_disclosed_avg_tot_purch_per]},\n",
    "                            index = ['Male', 'Female', 'Other / Not Disclosed'])\n",
    "# Displaying purchase_analysis_gender_df\n",
    "purchase_analysis_gender_df"
   ]
  },
  {
   "cell_type": "code",
   "execution_count": 7,
   "metadata": {},
   "outputs": [
    {
     "name": "stdout",
     "output_type": "stream",
     "text": [
      "                       Purchase Count Average Purchase Price  \\\n",
      "Male                              652                  $3.02   \n",
      "Female                            113                  $3.20   \n",
      "Other / Not Disclosed              15                  $3.35   \n",
      "\n",
      "                      Total Purchase Value Avg Total Purchase per Person  \n",
      "Male                              $1967.64                         $4.07  \n",
      "Female                             $361.94                         $4.47  \n",
      "Other / Not Disclosed               $50.19                         $4.56  \n"
     ]
    }
   ],
   "source": [
    "# Formatting purchase_analysis_gender_df with \"$\" and 2 decimal places where appropriate\n",
    "purchase_analysis_gender_df['Average Purchase Price'] = purchase_analysis_gender_df['Average Purchase Price'].map(\"${:.2f}\".format)\n",
    "purchase_analysis_gender_df['Total Purchase Value'] = purchase_analysis_gender_df['Total Purchase Value'].map(\"${:.2f}\".format)\n",
    "purchase_analysis_gender_df['Avg Total Purchase per Person'] = purchase_analysis_gender_df['Avg Total Purchase per Person'].map(\"${:.2f}\".format)\n",
    "# Displaying purchase_analysis_gender_df after formatting\n",
    "print(purchase_analysis_gender_df)"
   ]
  },
  {
   "cell_type": "markdown",
   "metadata": {},
   "source": [
    "## Age Demographics"
   ]
  },
  {
   "cell_type": "markdown",
   "metadata": {},
   "source": [
    "* Establish bins for ages\n",
    "\n",
    "\n",
    "* Categorize the existing players using the age bins. Hint: use pd.cut()\n",
    "\n",
    "\n",
    "* Calculate the numbers and percentages by age group\n",
    "\n",
    "\n",
    "* Create a summary data frame to hold the results\n",
    "\n",
    "\n",
    "* Optional: round the percentage column to two decimal points\n",
    "\n",
    "\n",
    "* Display Age Demographics Table\n"
   ]
  },
  {
   "cell_type": "code",
   "execution_count": 8,
   "metadata": {},
   "outputs": [
    {
     "data": {
      "text/html": [
       "<div>\n",
       "<style scoped>\n",
       "    .dataframe tbody tr th:only-of-type {\n",
       "        vertical-align: middle;\n",
       "    }\n",
       "\n",
       "    .dataframe tbody tr th {\n",
       "        vertical-align: top;\n",
       "    }\n",
       "\n",
       "    .dataframe thead th {\n",
       "        text-align: right;\n",
       "    }\n",
       "</style>\n",
       "<table border=\"1\" class=\"dataframe\">\n",
       "  <thead>\n",
       "    <tr style=\"text-align: right;\">\n",
       "      <th></th>\n",
       "      <th>Total Count</th>\n",
       "      <th>Percentage of Players</th>\n",
       "    </tr>\n",
       "  </thead>\n",
       "  <tbody>\n",
       "    <tr>\n",
       "      <th>&lt;10</th>\n",
       "      <td>17</td>\n",
       "      <td>2.95</td>\n",
       "    </tr>\n",
       "    <tr>\n",
       "      <th>10-14</th>\n",
       "      <td>22</td>\n",
       "      <td>3.82</td>\n",
       "    </tr>\n",
       "    <tr>\n",
       "      <th>15-19</th>\n",
       "      <td>107</td>\n",
       "      <td>18.58</td>\n",
       "    </tr>\n",
       "    <tr>\n",
       "      <th>20-24</th>\n",
       "      <td>258</td>\n",
       "      <td>44.79</td>\n",
       "    </tr>\n",
       "    <tr>\n",
       "      <th>25-29</th>\n",
       "      <td>77</td>\n",
       "      <td>13.37</td>\n",
       "    </tr>\n",
       "    <tr>\n",
       "      <th>30-34</th>\n",
       "      <td>52</td>\n",
       "      <td>9.03</td>\n",
       "    </tr>\n",
       "    <tr>\n",
       "      <th>35-39</th>\n",
       "      <td>31</td>\n",
       "      <td>5.38</td>\n",
       "    </tr>\n",
       "    <tr>\n",
       "      <th>40+</th>\n",
       "      <td>12</td>\n",
       "      <td>2.08</td>\n",
       "    </tr>\n",
       "  </tbody>\n",
       "</table>\n",
       "</div>"
      ],
      "text/plain": [
       "       Total Count  Percentage of Players\n",
       "<10             17                   2.95\n",
       "10-14           22                   3.82\n",
       "15-19          107                  18.58\n",
       "20-24          258                  44.79\n",
       "25-29           77                  13.37\n",
       "30-34           52                   9.03\n",
       "35-39           31                   5.38\n",
       "40+             12                   2.08"
      ]
     },
     "execution_count": 8,
     "metadata": {},
     "output_type": "execute_result"
    }
   ],
   "source": [
    "# Creating bins for the age ranges of players as well as labels for those bins.\n",
    "bins = [0, 9, 14, 19, 24, 29, 34, 39, 100]\n",
    "group_names = ['<10', '10-14', '15-19', '20-24', '25-29', '30-34', '35-39', '40+']\n",
    "\n",
    "# Initializing a new column in purchase_data called Age Range and assigning each player an age range based on their \n",
    "# age.\n",
    "purchase_data['Age Range'] = pd.cut(purchase_data['Age'], bins, labels=group_names)\n",
    "\n",
    "# Creating a new DataFrame that will contain unique player screen name's because there are some that appear multiple\n",
    "# times.\n",
    "unique_sn_df = purchase_data.drop_duplicates('SN')\n",
    "\n",
    "# Initializing a variable called age_range_counts with the series of age ranges and the number of entries in each.\n",
    "age_range_counts = unique_sn_df['Age Range'].value_counts().reindex(['<10', '10-14', '15-19', '20-24', '25-29', '30-34', '35-39', '40+'])\n",
    "\n",
    "\n",
    "# Initializing a variable called age_range_percent_of_players with the percentage of total players each age range\n",
    "# makes up.\n",
    "age_range_percent_of_players = round(age_range_counts/num_players * 100, 2).reindex(['<10', '10-14', '15-19', '20-24', '25-29', '30-34', '35-39', '40+'])\n",
    "\n",
    "# Creating a DataFrame from the number of players in each age range, and the percentage of total players that that \n",
    "# age range makes up.\n",
    "age_dem_df = pd.DataFrame({'Total Count': age_range_counts, 'Percentage of Players': age_range_percent_of_players})\n",
    "# Displaying age_dem_df\n",
    "age_dem_df"
   ]
  },
  {
   "cell_type": "markdown",
   "metadata": {},
   "source": [
    "## Purchasing Analysis (Age)"
   ]
  },
  {
   "cell_type": "markdown",
   "metadata": {},
   "source": [
    "* Bin the purchase_data data frame by age\n",
    "\n",
    "\n",
    "* Run basic calculations to obtain purchase count, avg. purchase price, avg. purchase total per person etc. in the table below\n",
    "\n",
    "\n",
    "* Create a summary data frame to hold the results\n",
    "\n",
    "\n",
    "* Optional: give the displayed data cleaner formatting\n",
    "\n",
    "\n",
    "* Display the summary data frame"
   ]
  },
  {
   "cell_type": "code",
   "execution_count": 9,
   "metadata": {},
   "outputs": [
    {
     "data": {
      "text/html": [
       "<div>\n",
       "<style scoped>\n",
       "    .dataframe tbody tr th:only-of-type {\n",
       "        vertical-align: middle;\n",
       "    }\n",
       "\n",
       "    .dataframe tbody tr th {\n",
       "        vertical-align: top;\n",
       "    }\n",
       "\n",
       "    .dataframe thead th {\n",
       "        text-align: right;\n",
       "    }\n",
       "</style>\n",
       "<table border=\"1\" class=\"dataframe\">\n",
       "  <thead>\n",
       "    <tr style=\"text-align: right;\">\n",
       "      <th></th>\n",
       "      <th>Purchase Count</th>\n",
       "      <th>Average Purchase Price</th>\n",
       "      <th>Total Purchase Value</th>\n",
       "      <th>Avg Total Purchase per Person</th>\n",
       "    </tr>\n",
       "  </thead>\n",
       "  <tbody>\n",
       "    <tr>\n",
       "      <th>&lt;10</th>\n",
       "      <td>23</td>\n",
       "      <td>3.35</td>\n",
       "      <td>77.13</td>\n",
       "      <td>4.54</td>\n",
       "    </tr>\n",
       "    <tr>\n",
       "      <th>10-14</th>\n",
       "      <td>28</td>\n",
       "      <td>2.96</td>\n",
       "      <td>82.78</td>\n",
       "      <td>3.76</td>\n",
       "    </tr>\n",
       "    <tr>\n",
       "      <th>15-19</th>\n",
       "      <td>136</td>\n",
       "      <td>3.04</td>\n",
       "      <td>412.89</td>\n",
       "      <td>3.86</td>\n",
       "    </tr>\n",
       "    <tr>\n",
       "      <th>20-24</th>\n",
       "      <td>365</td>\n",
       "      <td>3.05</td>\n",
       "      <td>1114.06</td>\n",
       "      <td>4.32</td>\n",
       "    </tr>\n",
       "    <tr>\n",
       "      <th>25-29</th>\n",
       "      <td>101</td>\n",
       "      <td>2.90</td>\n",
       "      <td>293.00</td>\n",
       "      <td>3.81</td>\n",
       "    </tr>\n",
       "    <tr>\n",
       "      <th>30-34</th>\n",
       "      <td>73</td>\n",
       "      <td>2.93</td>\n",
       "      <td>214.00</td>\n",
       "      <td>4.12</td>\n",
       "    </tr>\n",
       "    <tr>\n",
       "      <th>35-39</th>\n",
       "      <td>41</td>\n",
       "      <td>3.60</td>\n",
       "      <td>147.67</td>\n",
       "      <td>4.76</td>\n",
       "    </tr>\n",
       "    <tr>\n",
       "      <th>40+</th>\n",
       "      <td>13</td>\n",
       "      <td>2.94</td>\n",
       "      <td>38.24</td>\n",
       "      <td>3.19</td>\n",
       "    </tr>\n",
       "  </tbody>\n",
       "</table>\n",
       "</div>"
      ],
      "text/plain": [
       "       Purchase Count  Average Purchase Price  Total Purchase Value  \\\n",
       "<10                23                    3.35                 77.13   \n",
       "10-14              28                    2.96                 82.78   \n",
       "15-19             136                    3.04                412.89   \n",
       "20-24             365                    3.05               1114.06   \n",
       "25-29             101                    2.90                293.00   \n",
       "30-34              73                    2.93                214.00   \n",
       "35-39              41                    3.60                147.67   \n",
       "40+                13                    2.94                 38.24   \n",
       "\n",
       "       Avg Total Purchase per Person  \n",
       "<10                             4.54  \n",
       "10-14                           3.76  \n",
       "15-19                           3.86  \n",
       "20-24                           4.32  \n",
       "25-29                           3.81  \n",
       "30-34                           4.12  \n",
       "35-39                           4.76  \n",
       "40+                             3.19  "
      ]
     },
     "execution_count": 9,
     "metadata": {},
     "output_type": "execute_result"
    }
   ],
   "source": [
    "# Initializing a DataFrame with the summed values of each column of purchase_data grouped by Age Range\n",
    "summed_df = purchase_data.groupby(['Age Range']).sum()\n",
    "# Initializing variables that will hold the Purchase Count, Average Purchase Price, Total Purchase Value and \n",
    "# Avg Total Purchase per Person based on Age Range.\n",
    "num_purchases = purchase_data['Age Range'].value_counts()\n",
    "avg_purchase_price = round(summed_df['Price']/num_purchases, 2)\n",
    "total_purch_per_age_range = summed_df['Price']\n",
    "avg_purchase_per_person = round(summed_df['Price']/unique_sn_df['Age Range'].value_counts(), 2)\n",
    "\n",
    "# Initializing a DataFrame with the above variables grouped by Age Range\n",
    "purchase_analysis_age_df = pd.DataFrame({'Purchase Count': num_purchases,\n",
    "                                         'Average Purchase Price': avg_purchase_price,\n",
    "                                         'Total Purchase Value': total_purch_per_age_range,\n",
    "                                        'Avg Total Purchase per Person': avg_purchase_per_person})\n",
    "\n",
    "# Reindexing the purchase_analysis_age_df to match the previously produced DataFrames\n",
    "purchase_analysis_age_df = purchase_analysis_age_df.reindex(['<10', '10-14', '15-19', '20-24', '25-29', '30-34', '35-39', '40+'])            \n",
    "# Displaying purchase_analysis_age_df\n",
    "purchase_analysis_age_df"
   ]
  },
  {
   "cell_type": "code",
   "execution_count": 10,
   "metadata": {},
   "outputs": [
    {
     "name": "stdout",
     "output_type": "stream",
     "text": [
      "       Purchase Count Average Purchase Price Total Purchase Value  \\\n",
      "<10                23                  $3.35               $77.13   \n",
      "10-14              28                  $2.96               $82.78   \n",
      "15-19             136                  $3.04              $412.89   \n",
      "20-24             365                  $3.05             $1114.06   \n",
      "25-29             101                  $2.90              $293.00   \n",
      "30-34              73                  $2.93              $214.00   \n",
      "35-39              41                  $3.60              $147.67   \n",
      "40+                13                  $2.94               $38.24   \n",
      "\n",
      "      Avg Total Purchase per Person  \n",
      "<10                           $4.54  \n",
      "10-14                         $3.76  \n",
      "15-19                         $3.86  \n",
      "20-24                         $4.32  \n",
      "25-29                         $3.81  \n",
      "30-34                         $4.12  \n",
      "35-39                         $4.76  \n",
      "40+                           $3.19  \n"
     ]
    }
   ],
   "source": [
    "# Formatting purchase_analysis_age_df with \"$\" and 2 decimal places where appropriate\n",
    "purchase_analysis_age_df['Average Purchase Price'] = purchase_analysis_age_df['Average Purchase Price'].map(\"${:.2f}\".format)\n",
    "purchase_analysis_age_df['Total Purchase Value'] = purchase_analysis_age_df['Total Purchase Value'].map(\"${:.2f}\".format)\n",
    "purchase_analysis_age_df['Avg Total Purchase per Person'] = purchase_analysis_age_df['Avg Total Purchase per Person'].map(\"${:.2f}\".format)\n",
    "# Displaying purchase_analysis_age_df\n",
    "print(purchase_analysis_age_df)"
   ]
  },
  {
   "cell_type": "markdown",
   "metadata": {},
   "source": [
    "## Top Spenders"
   ]
  },
  {
   "cell_type": "markdown",
   "metadata": {},
   "source": [
    "* Run basic calculations to obtain the results in the table below\n",
    "\n",
    "\n",
    "* Create a summary data frame to hold the results\n",
    "\n",
    "\n",
    "* Sort the total purchase value column in descending order\n",
    "\n",
    "\n",
    "* Optional: give the displayed data cleaner formatting\n",
    "\n",
    "\n",
    "* Display a preview of the summary data frame\n",
    "\n"
   ]
  },
  {
   "cell_type": "code",
   "execution_count": 11,
   "metadata": {},
   "outputs": [
    {
     "data": {
      "text/html": [
       "<div>\n",
       "<style scoped>\n",
       "    .dataframe tbody tr th:only-of-type {\n",
       "        vertical-align: middle;\n",
       "    }\n",
       "\n",
       "    .dataframe tbody tr th {\n",
       "        vertical-align: top;\n",
       "    }\n",
       "\n",
       "    .dataframe thead th {\n",
       "        text-align: right;\n",
       "    }\n",
       "</style>\n",
       "<table border=\"1\" class=\"dataframe\">\n",
       "  <thead>\n",
       "    <tr style=\"text-align: right;\">\n",
       "      <th></th>\n",
       "      <th>Purchase Count</th>\n",
       "      <th>Total Purchase Value</th>\n",
       "      <th>Average Purchase Price</th>\n",
       "    </tr>\n",
       "    <tr>\n",
       "      <th>SN</th>\n",
       "      <th></th>\n",
       "      <th></th>\n",
       "      <th></th>\n",
       "    </tr>\n",
       "  </thead>\n",
       "  <tbody>\n",
       "    <tr>\n",
       "      <th>Lisosia93</th>\n",
       "      <td>5</td>\n",
       "      <td>18.96</td>\n",
       "      <td>3.79</td>\n",
       "    </tr>\n",
       "    <tr>\n",
       "      <th>Idastidru52</th>\n",
       "      <td>4</td>\n",
       "      <td>15.45</td>\n",
       "      <td>3.86</td>\n",
       "    </tr>\n",
       "    <tr>\n",
       "      <th>Chamjask73</th>\n",
       "      <td>3</td>\n",
       "      <td>13.83</td>\n",
       "      <td>4.61</td>\n",
       "    </tr>\n",
       "    <tr>\n",
       "      <th>Iral74</th>\n",
       "      <td>4</td>\n",
       "      <td>13.62</td>\n",
       "      <td>3.40</td>\n",
       "    </tr>\n",
       "    <tr>\n",
       "      <th>Iskadarya95</th>\n",
       "      <td>3</td>\n",
       "      <td>13.10</td>\n",
       "      <td>4.37</td>\n",
       "    </tr>\n",
       "  </tbody>\n",
       "</table>\n",
       "</div>"
      ],
      "text/plain": [
       "             Purchase Count  Total Purchase Value  Average Purchase Price\n",
       "SN                                                                       \n",
       "Lisosia93                 5                 18.96                    3.79\n",
       "Idastidru52               4                 15.45                    3.86\n",
       "Chamjask73                3                 13.83                    4.61\n",
       "Iral74                    4                 13.62                    3.40\n",
       "Iskadarya95               3                 13.10                    4.37"
      ]
     },
     "execution_count": 11,
     "metadata": {},
     "output_type": "execute_result"
    }
   ],
   "source": [
    "# Initializing a DataFrame that holds the number of times each screen name is registered in purchase_data\n",
    "counts_by_sn_df = purchase_data.groupby(['SN']).count()\n",
    "# Initializing a DataFrame that holds the total amount spent by each screen name\n",
    "total_spend_per_sn_df = purchase_data.groupby('SN').agg({'Price': 'sum'})\n",
    "# Initializing a DataFrame to hold the result of merging counts_by_sn_df and total_spend_per_sn_df\n",
    "merged_spender_df = pd.merge(counts_by_sn_df, total_spend_per_sn_df, on = 'SN')\n",
    "# Initializing a DataFrame with specific columns we need from merged_df\n",
    "top_spenders_df = pd.DataFrame({'Purchase Count': merged_spender_df['Purchase ID'],\n",
    "                             'Total Purchase Value': merged_spender_df['Price_y']})\n",
    "# Mapping the $ sign to the values in Total Purchase Value\n",
    "\n",
    "top_spenders_df['Average Purchase Price'] = round(top_spenders_df['Total Purchase Value'] / \n",
    "                                               top_spenders_df['Purchase Count'], 2)\n",
    "# Sorting top_spenders by Total Purchase Value, and then by Purchase Count\n",
    "top_spenders_df = top_spenders_df.sort_values(['Total Purchase Value','Purchase Count'], ascending = False).head()\n",
    "# Displaying top_spenders\n",
    "top_spenders_df"
   ]
  },
  {
   "cell_type": "code",
   "execution_count": 12,
   "metadata": {},
   "outputs": [
    {
     "name": "stdout",
     "output_type": "stream",
     "text": [
      "             Purchase Count Total Purchase Value Average Purchase Price\n",
      "SN                                                                     \n",
      "Lisosia93                 5               $18.96                  $3.79\n",
      "Idastidru52               4               $15.45                  $3.86\n",
      "Chamjask73                3               $13.83                  $4.61\n",
      "Iral74                    4               $13.62                  $3.40\n",
      "Iskadarya95               3               $13.10                  $4.37\n"
     ]
    }
   ],
   "source": [
    "# Formatting top_spenders with \"$\" and 2 decimal places where appropriate\n",
    "top_spenders_df[\"Total Purchase Value\"] = top_spenders_df[\"Total Purchase Value\"].map(\"${:.2f}\".format)\n",
    "top_spenders_df[\"Average Purchase Price\"] = top_spenders_df[\"Average Purchase Price\"].map(\"${:.2f}\".format)\n",
    "# Displaying top_spenders_df\n",
    "print(top_spenders_df)"
   ]
  },
  {
   "cell_type": "markdown",
   "metadata": {},
   "source": [
    "## Most Popular Items"
   ]
  },
  {
   "cell_type": "markdown",
   "metadata": {},
   "source": [
    "* Retrieve the Item ID, Item Name, and Item Price columns\n",
    "\n",
    "\n",
    "* Group by Item ID and Item Name. Perform calculations to obtain purchase count, item price, and total purchase value\n",
    "\n",
    "\n",
    "* Create a summary data frame to hold the results\n",
    "\n",
    "\n",
    "* Sort the purchase count column in descending order\n",
    "\n",
    "\n",
    "* Optional: give the displayed data cleaner formatting\n",
    "\n",
    "\n",
    "* Display a preview of the summary data frame\n",
    "\n"
   ]
  },
  {
   "cell_type": "code",
   "execution_count": 13,
   "metadata": {},
   "outputs": [
    {
     "data": {
      "text/html": [
       "<div>\n",
       "<style scoped>\n",
       "    .dataframe tbody tr th:only-of-type {\n",
       "        vertical-align: middle;\n",
       "    }\n",
       "\n",
       "    .dataframe tbody tr th {\n",
       "        vertical-align: top;\n",
       "    }\n",
       "\n",
       "    .dataframe thead th {\n",
       "        text-align: right;\n",
       "    }\n",
       "</style>\n",
       "<table border=\"1\" class=\"dataframe\">\n",
       "  <thead>\n",
       "    <tr style=\"text-align: right;\">\n",
       "      <th></th>\n",
       "      <th>Item Name</th>\n",
       "      <th>Item Price</th>\n",
       "      <th>Purchase Count</th>\n",
       "      <th>Total Purchase Value</th>\n",
       "    </tr>\n",
       "    <tr>\n",
       "      <th>Item ID</th>\n",
       "      <th></th>\n",
       "      <th></th>\n",
       "      <th></th>\n",
       "      <th></th>\n",
       "    </tr>\n",
       "  </thead>\n",
       "  <tbody>\n",
       "    <tr>\n",
       "      <th>178</th>\n",
       "      <td>Oathbreaker, Last Hope of the Breaking Storm</td>\n",
       "      <td>4.23</td>\n",
       "      <td>12</td>\n",
       "      <td>50.76</td>\n",
       "    </tr>\n",
       "    <tr>\n",
       "      <th>82</th>\n",
       "      <td>Nirvana</td>\n",
       "      <td>4.90</td>\n",
       "      <td>9</td>\n",
       "      <td>44.10</td>\n",
       "    </tr>\n",
       "    <tr>\n",
       "      <th>145</th>\n",
       "      <td>Fiery Glass Crusader</td>\n",
       "      <td>4.58</td>\n",
       "      <td>9</td>\n",
       "      <td>41.22</td>\n",
       "    </tr>\n",
       "    <tr>\n",
       "      <th>108</th>\n",
       "      <td>Extraction, Quickblade Of Trembling Hands</td>\n",
       "      <td>3.53</td>\n",
       "      <td>9</td>\n",
       "      <td>31.77</td>\n",
       "    </tr>\n",
       "    <tr>\n",
       "      <th>59</th>\n",
       "      <td>Lightning, Etcher of the King</td>\n",
       "      <td>4.23</td>\n",
       "      <td>8</td>\n",
       "      <td>33.84</td>\n",
       "    </tr>\n",
       "  </tbody>\n",
       "</table>\n",
       "</div>"
      ],
      "text/plain": [
       "                                            Item Name  Item Price  \\\n",
       "Item ID                                                             \n",
       "178      Oathbreaker, Last Hope of the Breaking Storm        4.23   \n",
       "82                                            Nirvana        4.90   \n",
       "145                              Fiery Glass Crusader        4.58   \n",
       "108         Extraction, Quickblade Of Trembling Hands        3.53   \n",
       "59                      Lightning, Etcher of the King        4.23   \n",
       "\n",
       "         Purchase Count  Total Purchase Value  \n",
       "Item ID                                        \n",
       "178                  12                 50.76  \n",
       "82                    9                 44.10  \n",
       "145                   9                 41.22  \n",
       "108                   9                 31.77  \n",
       "59                    8                 33.84  "
      ]
     },
     "execution_count": 13,
     "metadata": {},
     "output_type": "execute_result"
    }
   ],
   "source": [
    "# Initializing a DataFrame with the count of purchase_data grouped by \"Item ID\"\n",
    "item_count_df = purchase_data.groupby([\"Item ID\"]).count()\n",
    "# Initalizing a DataFrame with \"Item ID\" as the index and the total sales per item held by a column\n",
    "total_sales_per_item = purchase_data.groupby(\"Item ID\").agg({\"Price\": \"sum\"})\n",
    "# Initializing a variable to hold the three DataFrames that will be merged together \n",
    "dfs = [purchase_data[[\"Item ID\",\"Item Name\", \"Price\"]], item_count_df[\"Purchase ID\"], total_sales_per_item]\n",
    "# Initalizing a DataFrame with the result of the merge of the three DataFrames held in dfs\n",
    "most_popular_items_df = reduce(lambda left,right: pd.merge(left,right,on=\"Item ID\"), dfs)\n",
    "most_popular_items_df.rename(columns = {\"Price_x\": \"Item Price\", \n",
    "                          \"Price_y\": \"Total Purchase Value\",\n",
    "                          \"Purchase ID\": \"Purchase Count\"}, inplace = True)\n",
    "# Initializing a DataFrame with the descending order of most_popular_items_df[\"Purchase Count\"] and deleting duplicate\n",
    "# rows\n",
    "most_popular_items_df = most_popular_items_df.sort_values(\"Purchase Count\", \n",
    "                                                          ascending = False).set_index(\"Item ID\").drop_duplicates()\n",
    "# Displaying the first five rows of most_popular_items_df\n",
    "most_popular_items_df.head()"
   ]
  },
  {
   "cell_type": "markdown",
   "metadata": {},
   "source": [
    "## Most Profitable Items"
   ]
  },
  {
   "cell_type": "markdown",
   "metadata": {},
   "source": [
    "* Sort the above table by total purchase value in descending order\n",
    "\n",
    "\n",
    "* Optional: give the displayed data cleaner formatting\n",
    "\n",
    "\n",
    "* Display a preview of the data frame\n",
    "\n"
   ]
  },
  {
   "cell_type": "code",
   "execution_count": 14,
   "metadata": {
    "scrolled": true
   },
   "outputs": [
    {
     "data": {
      "text/html": [
       "<div>\n",
       "<style scoped>\n",
       "    .dataframe tbody tr th:only-of-type {\n",
       "        vertical-align: middle;\n",
       "    }\n",
       "\n",
       "    .dataframe tbody tr th {\n",
       "        vertical-align: top;\n",
       "    }\n",
       "\n",
       "    .dataframe thead th {\n",
       "        text-align: right;\n",
       "    }\n",
       "</style>\n",
       "<table border=\"1\" class=\"dataframe\">\n",
       "  <thead>\n",
       "    <tr style=\"text-align: right;\">\n",
       "      <th></th>\n",
       "      <th>Item Name</th>\n",
       "      <th>Item Price</th>\n",
       "      <th>Purchase Count</th>\n",
       "      <th>Total Purchase Value</th>\n",
       "    </tr>\n",
       "    <tr>\n",
       "      <th>Item ID</th>\n",
       "      <th></th>\n",
       "      <th></th>\n",
       "      <th></th>\n",
       "      <th></th>\n",
       "    </tr>\n",
       "  </thead>\n",
       "  <tbody>\n",
       "    <tr>\n",
       "      <th>178</th>\n",
       "      <td>Oathbreaker, Last Hope of the Breaking Storm</td>\n",
       "      <td>4.23</td>\n",
       "      <td>12</td>\n",
       "      <td>50.76</td>\n",
       "    </tr>\n",
       "    <tr>\n",
       "      <th>82</th>\n",
       "      <td>Nirvana</td>\n",
       "      <td>4.90</td>\n",
       "      <td>9</td>\n",
       "      <td>44.10</td>\n",
       "    </tr>\n",
       "    <tr>\n",
       "      <th>145</th>\n",
       "      <td>Fiery Glass Crusader</td>\n",
       "      <td>4.58</td>\n",
       "      <td>9</td>\n",
       "      <td>41.22</td>\n",
       "    </tr>\n",
       "    <tr>\n",
       "      <th>92</th>\n",
       "      <td>Final Critic</td>\n",
       "      <td>4.88</td>\n",
       "      <td>8</td>\n",
       "      <td>39.04</td>\n",
       "    </tr>\n",
       "    <tr>\n",
       "      <th>103</th>\n",
       "      <td>Singed Scalpel</td>\n",
       "      <td>4.35</td>\n",
       "      <td>8</td>\n",
       "      <td>34.80</td>\n",
       "    </tr>\n",
       "  </tbody>\n",
       "</table>\n",
       "</div>"
      ],
      "text/plain": [
       "                                            Item Name  Item Price  \\\n",
       "Item ID                                                             \n",
       "178      Oathbreaker, Last Hope of the Breaking Storm        4.23   \n",
       "82                                            Nirvana        4.90   \n",
       "145                              Fiery Glass Crusader        4.58   \n",
       "92                                       Final Critic        4.88   \n",
       "103                                    Singed Scalpel        4.35   \n",
       "\n",
       "         Purchase Count  Total Purchase Value  \n",
       "Item ID                                        \n",
       "178                  12                 50.76  \n",
       "82                    9                 44.10  \n",
       "145                   9                 41.22  \n",
       "92                    8                 39.04  \n",
       "103                   8                 34.80  "
      ]
     },
     "execution_count": 14,
     "metadata": {},
     "output_type": "execute_result"
    }
   ],
   "source": [
    "# Sorting most_popular_items_df by \"Total Purchase Value\" first and then by \"Purchase Count\"\n",
    "most_popular_items_df = most_popular_items_df.sort_values([\"Total Purchase Value\", \"Purchase Count\"], ascending=False)\n",
    "#Displaying the first five rows of most_popular_items_df\n",
    "most_popular_items_df.head()"
   ]
  },
  {
   "cell_type": "code",
   "execution_count": 15,
   "metadata": {},
   "outputs": [
    {
     "name": "stdout",
     "output_type": "stream",
     "text": [
      "                                            Item Name Item Price  \\\n",
      "Item ID                                                            \n",
      "178      Oathbreaker, Last Hope of the Breaking Storm      $4.23   \n",
      "82                                            Nirvana      $4.90   \n",
      "145                              Fiery Glass Crusader      $4.58   \n",
      "92                                       Final Critic      $4.88   \n",
      "103                                    Singed Scalpel      $4.35   \n",
      "\n",
      "         Purchase Count Total Purchase Value  \n",
      "Item ID                                       \n",
      "178                  12               $50.76  \n",
      "82                    9               $44.10  \n",
      "145                   9               $41.22  \n",
      "92                    8               $39.04  \n",
      "103                   8               $34.80  \n"
     ]
    }
   ],
   "source": [
    "# Formatting the most_popular_items_df to have \"$\" where appropriate and values rounded to 2 decimal places\n",
    "most_popular_items_df[\"Total Purchase Value\"] = most_popular_items_df[\"Total Purchase Value\"].map(\"${:.2f}\".format)\n",
    "most_popular_items_df[\"Item Price\"] = most_popular_items_df[\"Item Price\"].map(\"${:.2f}\".format)\n",
    "#Displaying the first five rows of most_popular_items_df\n",
    "print(most_popular_items_df.head())"
   ]
  },
  {
   "cell_type": "markdown",
   "metadata": {},
   "source": [
    "Three trends I observed during the analysis of the Heroes Of Pymoli purchase data are that:\n",
    "\n",
    "1) There are five times more male players that female and players of other or non-disclosed gender combined.\n",
    "\n",
    "2) There are more than twice the number of players in the 20-24 year old age range than any other age range.\n",
    "\n",
    "3) The average purchase of players in the 20-24 year old age range is higher than any other age range, and additionally, the total purchases of players in the 20-24 year old age range amount to more that twice that of any other age range."
   ]
  }
 ],
 "metadata": {
  "anaconda-cloud": {},
  "kernel_info": {
   "name": "python3"
  },
  "kernelspec": {
   "display_name": "Python 3",
   "language": "python",
   "name": "python3"
  },
  "language_info": {
   "codemirror_mode": {
    "name": "ipython",
    "version": 3
   },
   "file_extension": ".py",
   "mimetype": "text/x-python",
   "name": "python",
   "nbconvert_exporter": "python",
   "pygments_lexer": "ipython3",
   "version": "3.7.3"
  },
  "nteract": {
   "version": "0.2.0"
  }
 },
 "nbformat": 4,
 "nbformat_minor": 2
}
